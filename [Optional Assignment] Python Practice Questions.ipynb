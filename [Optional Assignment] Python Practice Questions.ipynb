{
 "cells": [
  {
   "cell_type": "markdown",
   "metadata": {},
   "source": [
    "#1. Write a function that inputs a number and prints the multiplication table of that number"
   ]
  },
  {
   "cell_type": "code",
   "execution_count": 42,
   "metadata": {},
   "outputs": [
    {
     "name": "stdout",
     "output_type": "stream",
     "text": [
      "Enter a number to be multiplied of your choice:12\n",
      "\n",
      "12 x 1 = 12\n",
      "12 x 2 = 24\n",
      "12 x 3 = 36\n",
      "12 x 4 = 48\n",
      "12 x 5 = 60\n",
      "12 x 6 = 72\n",
      "12 x 7 = 84\n",
      "12 x 8 = 96\n",
      "12 x 9 = 108\n",
      "12 x 10 = 120\n",
      "None\n"
     ]
    }
   ],
   "source": [
    "def table(num):\n",
    "        for i in range(1,11): #running the loop where i value lie from 1 to 10\n",
    "            print(num, 'x', i, '=', (num*i)) # printing the format of the table as (num x i = num*i)\n",
    "        \n",
    "num=int(input(\"Enter a number to be multiplied of your choice:\"))\n",
    "print(\"\") \n",
    "print(table(num)) #print the table"
   ]
  },
  {
   "cell_type": "markdown",
   "metadata": {},
   "source": [
    "#2. Write a program to print twin primes less than 1000. \n",
    "\n",
    "#NOTE--->If two consecutive odd numbers are both prime then they are known as twin primes"
   ]
  },
  {
   "cell_type": "code",
   "execution_count": 2,
   "metadata": {},
   "outputs": [
    {
     "name": "stdout",
     "output_type": "stream",
     "text": [
      "False\n",
      "True\n",
      "\n",
      "Twin prime numbers:\n",
      "( 3 and 5 )\n",
      "( 5 and 7 )\n",
      "( 11 and 13 )\n",
      "( 17 and 19 )\n",
      "( 29 and 31 )\n",
      "( 41 and 43 )\n",
      "( 59 and 61 )\n",
      "( 71 and 73 )\n",
      "( 101 and 103 )\n",
      "( 107 and 109 )\n",
      "( 137 and 139 )\n",
      "( 149 and 151 )\n",
      "( 179 and 181 )\n",
      "( 191 and 193 )\n",
      "( 197 and 199 )\n",
      "( 227 and 229 )\n",
      "( 239 and 241 )\n",
      "( 269 and 271 )\n",
      "( 281 and 283 )\n",
      "( 311 and 313 )\n",
      "( 347 and 349 )\n",
      "( 419 and 421 )\n",
      "( 431 and 433 )\n",
      "( 461 and 463 )\n",
      "( 521 and 523 )\n",
      "( 569 and 571 )\n",
      "( 599 and 601 )\n",
      "( 617 and 619 )\n",
      "( 641 and 643 )\n",
      "( 659 and 661 )\n",
      "( 809 and 811 )\n",
      "( 821 and 823 )\n",
      "( 827 and 829 )\n",
      "( 857 and 859 )\n",
      "( 881 and 883 )\n"
     ]
    }
   ],
   "source": [
    "#first function is to check whether a number is prime or not\n",
    "def prime(n):\n",
    "    for i in range(2,n):\n",
    "        if(n%i==0):\n",
    "            return False\n",
    "    return True\n",
    "print(prime(12))\n",
    "print(prime(11))\n",
    "print(\"\")\n",
    "#once we checked that the above function prime is working we will move forward with another function twins_prime to \n",
    "#check if the prime numbers less than 1000\n",
    "print(\"Twin prime numbers:\")    \n",
    "def twins_prime(x):\n",
    "    for i in range(2,x):\n",
    "        j = i+2\n",
    "        #check if the given numbers are prime or not and then declare them with twin prime\n",
    "        if(prime(i) and prime(j)):\n",
    "            print (\"(\",i,'and',j, \")\")\n",
    "twins_prime(1000)"
   ]
  },
  {
   "cell_type": "markdown",
   "metadata": {},
   "source": [
    "#3. Write a program to find out the prime factors of a number. \n",
    "\n",
    "#NOTE--->Example: prime factors of 56-->2, 2, 2, 7\n",
    "\n",
    "#//--->Floor division 15//4=3 instead of 3.75"
   ]
  },
  {
   "cell_type": "code",
   "execution_count": 23,
   "metadata": {},
   "outputs": [
    {
     "name": "stdout",
     "output_type": "stream",
     "text": [
      "Enter a number:56\n",
      "Prime Factor are: [2, 2, 2, 7]\n"
     ]
    }
   ],
   "source": [
    "#---function to define if the given number is prime factor or not \n",
    "def prime_factor(num):\n",
    "    \n",
    "    #list to store the factors of the given number\n",
    "    factor=[] \n",
    "    \n",
    "    # initialise the value of i=2 as to divide a prime factor number we start our division from 2 \n",
    "    i=2 \n",
    "    while i <= num:\n",
    "        if num%i==0:\n",
    "            factor.append(i) #storing the value of i in factor\n",
    "            num=num//i \n",
    "        else:\n",
    "            i=i+1\n",
    "    #checking the num value if it greater than 1 else it will return the factor \n",
    "    if num>1:\n",
    "        factor.append(num)\n",
    "    return factor\n",
    "\n",
    "#enter the number of your choice  \n",
    "num=int(input(\"Enter a number:\"))\n",
    "factor=prime_factor(num) #passing the num value\n",
    "print(\"Prime Factor are:\",factor)"
   ]
  },
  {
   "cell_type": "markdown",
   "metadata": {},
   "source": [
    "#4. Write a program to implement these formulae of permutations and combinations.\n",
    "#Number of permutations of n objects taken r at a time: p(n, r) = n! / (n-r)!. \n",
    "#Number of combinations of n objects taken r at a time is: c(n, r) = n! / (r!*(n-r)!) = p(n,r) / r!\n",
    "\n"
   ]
  },
  {
   "cell_type": "code",
   "execution_count": 45,
   "metadata": {},
   "outputs": [
    {
     "name": "stdout",
     "output_type": "stream",
     "text": [
      "Permutations of the given list: (1, 2, 3)\n",
      "Permutations of the given list: (1, 3, 2)\n",
      "Permutations of the given list: (2, 1, 3)\n",
      "Permutations of the given list: (2, 3, 1)\n",
      "Permutations of the given list: (3, 1, 2)\n",
      "Permutations of the given list: (3, 2, 1)\n",
      "\n",
      "Combinations of the given list ('a', 'g', 's')\n",
      "Combinations of the given list ('a', 'g', 'u')\n",
      "Combinations of the given list ('a', 's', 'u')\n",
      "Combinations of the given list ('g', 's', 'u')\n"
     ]
    }
   ],
   "source": [
    "#using library function\n",
    "from itertools import permutations\n",
    " \n",
    "#all permutations of [1, 2, 3]\n",
    "per= permutations([1, 2, 3])\n",
    " \n",
    "# Iterate and print the permutations\n",
    "for i in list(per):\n",
    "    print (\"Permutations of the given list:\",i)\n",
    "    \n",
    "    \n",
    "print(\"\")\n",
    "# combinations \n",
    "from itertools import combinations\n",
    "\n",
    "# all combinations of [1, 2, 3] and length 2\n",
    "comb = combinations([\"a\",\"g\",\"s\",\"u\"], 3)\n",
    " \n",
    "# Iterate and print the combinations\n",
    "for i in list(comb):\n",
    "    print (\"Combinations of the given list\",i)\n",
    "    \n"
   ]
  },
  {
   "cell_type": "markdown",
   "metadata": {},
   "source": [
    "#5. Write a function that converts a decimal number to binary number"
   ]
  },
  {
   "cell_type": "code",
   "execution_count": 45,
   "metadata": {},
   "outputs": [
    {
     "name": "stdout",
     "output_type": "stream",
     "text": [
      "01001011"
     ]
    }
   ],
   "source": [
    "#Recursive Function to convert decimal to binary\n",
    "\n",
    "def conversion(num):\n",
    "    if num >= 1:\n",
    "    # recursive function call\n",
    "        conversion(num // 2)\n",
    "    \n",
    "    # printing remainder from each function call\n",
    "    print(num % 2, end = '')\n",
    "    \n",
    "#What is driver code?\n",
    "#A driver is generally a (relatively) simple executable program designed to exercise some component that \n",
    "#isn't directly executable, like a library or ADT or test suite, etc.\n",
    "\n",
    "# Driver Code\n",
    "if __name__ == '__main__':\n",
    "    # decimal value\n",
    "     num= 75\n",
    "     \n",
    "    # Calling special function\n",
    "     conversion(num)\n",
    "\n",
    "#Every Python module has it’s __name__ defined and if this is ‘__main__’, \n",
    "#it implies that the module is being run standalone by the user and we can do corresponding appropriate actions.\n",
    "#If you import this script as a module in another script, the __name__ is set to the name of the script/module.\n",
    "#Python files can act as either reusable modules, or as standalone programs.\n",
    "#if __name__ == “main”: is used to execute some code only if the file was run directly, and not imported.\n",
    "\n"
   ]
  },
  {
   "cell_type": "markdown",
   "metadata": {},
   "source": [
    "#6 Write a function cubesum() that accepts an integer and returns the sum of the cubes of individual digits of that number.\n",
    "Use this function to make functions PrintArmstrong() and isArmstrong() to print Armstrong numbers and to find whether is \n",
    "an Armstrong number."
   ]
  },
  {
   "cell_type": "code",
   "execution_count": 3,
   "metadata": {},
   "outputs": [
    {
     "name": "stdout",
     "output_type": "stream",
     "text": [
      "153\n",
      "370\n",
      "371\n",
      "407\n",
      "123 is not an armstrong number\n",
      "153 is an armstrong number\n"
     ]
    }
   ],
   "source": [
    "def cubesum(n):\n",
    "    sum=0\n",
    "    while(n!=0):\n",
    "        sum = sum + ((n%10)**3)\n",
    "        n = n//10\n",
    "    return sum\n",
    "#since the question is explicitly asking to use the fucntion cubesum in other function, \n",
    "#only three digit armstrong numbers  are possible\n",
    "\n",
    "def PrintArmStrong(n):\n",
    "    for i in range(100,n):\n",
    "        if(cubesum(i)==i):\n",
    "            print(i)\n",
    "\n",
    "PrintArmStrong(1000)\n",
    "\n",
    "def isArmstrong(n):\n",
    "    if(cubesum(n)==n):\n",
    "        print(n,'is an armstrong number')\n",
    "    else:\n",
    "        print(n,'is not an armstrong number')\n",
    "        \n",
    "isArmstrong(123)\n",
    "isArmstrong(153)\n"
   ]
  },
  {
   "cell_type": "markdown",
   "metadata": {},
   "source": [
    "#7. Write a function prodDigits() that inputs a number and returns the product of digits of that number."
   ]
  },
  {
   "cell_type": "code",
   "execution_count": 3,
   "metadata": {},
   "outputs": [
    {
     "name": "stdout",
     "output_type": "stream",
     "text": [
      "8\n",
      "504\n"
     ]
    }
   ],
   "source": [
    "#function defined \n",
    "def prodDigits(num):\n",
    "    \n",
    "    multi=1 #-->as we multiply we always take 1 and when we add we take 0 as an initial value of the variable\n",
    "    while (num>1):\n",
    "        rem=num%10 #storing the remainder 42%10 which will take the remainder value as 2 and then 4 \n",
    "        multi=multi*(rem) #mulyiply the remainder first with 1 i.e 1*2=2 and store it in multi and further 2*4=8\n",
    "        num=num//10 #float division to extract numbers\n",
    "    return multi\n",
    "\n",
    "#pass the value of your choice\n",
    "print(prodDigits(42))\n",
    "print(prodDigits(987))"
   ]
  },
  {
   "cell_type": "markdown",
   "metadata": {},
   "source": [
    "#8. If all digits of a number n are multiplied by each other repeating with the product, the one digit number obtained at last \n",
    "#is called the multiplicative digital root of n. The number of times digits need to be multiplied to reach one digit is called \n",
    "#the multiplicative\n",
    "#persistance of n.\n",
    "#Example: 86 -> 48 -> 32 -> 6 (MDR 6, MPersistence 3)\n",
    "#341 -> 12->2 (MDR 2, MPersistence 2)\n",
    "#Using the function prodDigits() of previous exercise write functions MDR() and MPersistence() that input a number and return\n",
    "#its multiplicative digital root and multiplicative persistence respectively"
   ]
  },
  {
   "cell_type": "code",
   "execution_count": 4,
   "metadata": {},
   "outputs": [
    {
     "name": "stdout",
     "output_type": "stream",
     "text": [
      "6\n",
      "3\n"
     ]
    }
   ],
   "source": [
    "def MDR(n):\n",
    "    while(n>9):\n",
    "        n = prodDigits(n)\n",
    "    return n\n",
    "\n",
    "print(MDR(86))\n",
    "\n",
    "def MPersistence(n):\n",
    "    i=0\n",
    "    while(n>9):\n",
    "        n = prodDigits(n)\n",
    "        i= i+1\n",
    "    return i\n",
    "\n",
    "print(MPersistence(86))"
   ]
  },
  {
   "cell_type": "markdown",
   "metadata": {},
   "source": [
    "#9. Write a function sumPdivisors() that finds the sum of proper divisors of a number. Proper\n",
    "divisors of a number are those numbers by which the number is divisible, except the\n",
    "number itself. For example proper divisors of 36 are 1, 2, 3, 4, 6, 9, 18"
   ]
  },
  {
   "cell_type": "code",
   "execution_count": 49,
   "metadata": {},
   "outputs": [
    {
     "name": "stdout",
     "output_type": "stream",
     "text": [
      "55.0\n"
     ]
    }
   ],
   "source": [
    "import math\n",
    "    \n",
    "#num --> given number\n",
    "def sumPdivisors(num) :\n",
    "    \n",
    "# Final j of summation of divisors\n",
    "    j = 0\n",
    "    \n",
    "# find all divisors which divides 'num'\n",
    "    i = 2\n",
    "    while i<= (math.sqrt(num)) :\n",
    "      \n",
    " #if 'i' is divisor of 'num'\n",
    "        if (num % i == 0) :\n",
    "      \n",
    "            # if both divisors are same then add it only once else add both\n",
    "            if (i == (num / i)) :\n",
    "                j = j + i;\n",
    "            else :\n",
    "                j = j +  (i + num/i);\n",
    "        i = i + 1\n",
    "        \n",
    "    # Add 1 to the result as 1 is also \n",
    "    # a divisor\n",
    "    return (j + 1);\n",
    " \n",
    "# Driver program to run the case\n",
    "num = 36\n",
    "print (sumPdivisors(num))"
   ]
  },
  {
   "cell_type": "markdown",
   "metadata": {},
   "source": [
    "#10. A number is called perfect if the sum of proper divisors of that number is equal to the number. For example 28 is perfect\n",
    "#number, since 1+2+4+7+14=28. Write a program to print all the perfect numbers in a given range"
   ]
  },
  {
   "cell_type": "code",
   "execution_count": 50,
   "metadata": {},
   "outputs": [
    {
     "name": "stdout",
     "output_type": "stream",
     "text": [
      "Enter the starting number of the range:1\n",
      "Enter the ending number of the range:50\n",
      "THE PERFECT NUMBER 2\n",
      "THE PERFECT NUMBER 3\n",
      "THE PERFECT NUMBER 5\n",
      "THE PERFECT NUMBER 7\n",
      "THE PERFECT NUMBER 11\n",
      "THE PERFECT NUMBER 13\n",
      "THE PERFECT NUMBER 17\n",
      "THE PERFECT NUMBER 19\n",
      "THE PERFECT NUMBER 23\n",
      "THE PERFECT NUMBER 29\n",
      "THE PERFECT NUMBER 31\n",
      "THE PERFECT NUMBER 37\n",
      "THE PERFECT NUMBER 41\n",
      "THE PERFECT NUMBER 43\n",
      "THE PERFECT NUMBER 47\n"
     ]
    }
   ],
   "source": [
    "#input the number of your choice\n",
    "num1=int(input(\"Enter the starting number of the range:\"))\n",
    "num2=int(input(\"Enter the ending number of the range:\"))\n",
    "\n",
    "for i in range(num1,num2+1): #iterating the loop from the given range\n",
    "    sum=0 #since we are adding teh initailize value will be sum=0\n",
    "    for j in range(1,i):\n",
    "        if i%j==0: #\n",
    "            sum=sum+i\n",
    "            \n",
    "    if (i==sum): # as the sum of proper divisors of that number is equal to the number.\n",
    "        print(\"THE PERFECT NUMBER\",i)\n"
   ]
  },
  {
   "cell_type": "markdown",
   "metadata": {},
   "source": [
    "#11. Two different numbers are called amicable numbers if the sum of the proper divisors of each is equal to the other number. \n",
    "#For example 220 and 284 are amicable numbers.\n",
    "Sum of proper divisors of 220 = 1+2+4+5+10+11+20+22+44+55+110 = 284\n",
    "Sum of proper divisors of 284 = 1+2+4+71+142 = 220\n",
    "Write a function to print pairs of amicable numbers in a range"
   ]
  },
  {
   "cell_type": "code",
   "execution_count": 2,
   "metadata": {},
   "outputs": [
    {
     "name": "stdout",
     "output_type": "stream",
     "text": [
      "56 and 284 are not amicable numbers\n",
      "220 and 284 are amicable numbers\n"
     ]
    }
   ],
   "source": [
    "def Amicable(n):\n",
    "    a=[]\n",
    "    for i in range(1,n):\n",
    "        if(n%i==0):\n",
    "            a.append(i)\n",
    "    return a\n",
    "\n",
    "def isAmicable(x,y):\n",
    "    if(sum(Amicable(x))==y and sum(Amicable(y))==x):\n",
    "        \n",
    "        print(x,'and',y,'are amicable numbers')\n",
    "    else:\n",
    "        print(x,'and',y,'are not amicable numbers')\n",
    "\n",
    "\n",
    "\n",
    "isAmicable(56,284)\n",
    "isAmicable(220,284)"
   ]
  },
  {
   "cell_type": "markdown",
   "metadata": {},
   "source": [
    "#12 Write a program which can filter odd numbers in a list by using filter function"
   ]
  },
  {
   "cell_type": "code",
   "execution_count": 25,
   "metadata": {
    "scrolled": true
   },
   "outputs": [
    {
     "name": "stdout",
     "output_type": "stream",
     "text": [
      "11\n",
      "29\n",
      "35\n",
      "69\n",
      "87\n",
      "99\n"
     ]
    }
   ],
   "source": [
    "#filter\n",
    "list_num=[11,29,38,4,35,68,69,87,66,99]\n",
    "\n",
    "def filter_list(num):\n",
    "    #condition for non-even number\n",
    "    if num%2!=0:\n",
    "        return True\n",
    "    else:\n",
    "        return False\n",
    "    \n",
    "#use filter\n",
    "filtered=filter(filter_list,list_num)\n",
    "\n",
    "#print(\"The odd list are:\")\n",
    "for num in filtered:\n",
    "    print(num)"
   ]
  },
  {
   "cell_type": "markdown",
   "metadata": {},
   "source": [
    "#13 Write a program which can map() to make a list whose elements are cube of elements in\n",
    "a given list"
   ]
  },
  {
   "cell_type": "code",
   "execution_count": 26,
   "metadata": {},
   "outputs": [
    {
     "name": "stdout",
     "output_type": "stream",
     "text": [
      "[1728, 512000, 4096, 13824, 681472, 46656, 185193, 10648, 1331]\n"
     ]
    }
   ],
   "source": [
    "#defining the function cube\n",
    "def cube(num):\n",
    "    return num**3 #cube formula \n",
    "\n",
    "num_list=[12,80,16,24,88,36,57,22,11]\n",
    "\n",
    "#passing the number in the list using map function\n",
    "print(list(map(cube,num_list)))"
   ]
  },
  {
   "cell_type": "markdown",
   "metadata": {},
   "source": [
    "#14 Write a program which can map() and filter() to make a list whose elements are cube of\n",
    "even number in a given list"
   ]
  },
  {
   "cell_type": "code",
   "execution_count": 50,
   "metadata": {},
   "outputs": [
    {
     "name": "stdout",
     "output_type": "stream",
     "text": [
      "Cubes of Even Number in the list: [1728, 8000, 4096, 27000, 343000, 941192, 46656]\n"
     ]
    }
   ],
   "source": [
    "#initailized the list to be filtered and mapped\n",
    "listed_nums=[12,20,16,30,70,98,81,36]\n",
    "\n",
    "filter_map=list(map(lambda num:num**3,filter(lambda num:num%2==0,listed_nums))) #single line application of map and filter\n",
    "print(\"Cubes of Even Number in the list:\",filter_map)\n",
    "\n",
    " "
   ]
  },
  {
   "cell_type": "code",
   "execution_count": null,
   "metadata": {},
   "outputs": [],
   "source": []
  }
 ],
 "metadata": {
  "kernelspec": {
   "display_name": "Python 3",
   "language": "python",
   "name": "python3"
  },
  "language_info": {
   "codemirror_mode": {
    "name": "ipython",
    "version": 3
   },
   "file_extension": ".py",
   "mimetype": "text/x-python",
   "name": "python",
   "nbconvert_exporter": "python",
   "pygments_lexer": "ipython3",
   "version": "3.8.5"
  }
 },
 "nbformat": 4,
 "nbformat_minor": 4
}
